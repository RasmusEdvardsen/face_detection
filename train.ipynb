{
 "metadata": {
  "language_info": {
   "codemirror_mode": {
    "name": "ipython",
    "version": 3
   },
   "file_extension": ".py",
   "mimetype": "text/x-python",
   "name": "python",
   "nbconvert_exporter": "python",
   "pygments_lexer": "ipython3",
   "version": "3.8.3"
  },
  "orig_nbformat": 2,
  "kernelspec": {
   "name": "python383jvsc74a57bd01baa965d5efe3ac65b79dfc60c0d706280b1da80fedb7760faf2759126c4f253",
   "display_name": "Python 3.8.3 64-bit"
  },
  "metadata": {
   "interpreter": {
    "hash": "1baa965d5efe3ac65b79dfc60c0d706280b1da80fedb7760faf2759126c4f253"
   }
  }
 },
 "nbformat": 4,
 "nbformat_minor": 2,
 "cells": [
  {
   "cell_type": "code",
   "execution_count": 1,
   "metadata": {},
   "outputs": [
    {
     "output_type": "stream",
     "name": "stderr",
     "text": [
      "Failed to detect the name of this notebook, you can set it manually with the WANDB_NOTEBOOK_NAME environment variable to enable code saving.\n",
      "wandb: Currently logged in as: rasmusedvardsen (use `wandb login --relogin` to force relogin)\n",
      "C:\\Users\\rasmus.edvardsen\\AppData\\Roaming\\Python\\Python38\\site-packages\\IPython\\html.py:12: ShimWarning: The `IPython.html` package has been deprecated since IPython 4.0. You should import from `notebook` instead. `IPython.html.widgets` has moved to `ipywidgets`.\n",
      "  warn(\"The `IPython.html` package has been deprecated since IPython 4.0. \"\n"
     ]
    },
    {
     "output_type": "display_data",
     "data": {
      "text/plain": "<IPython.core.display.HTML object>",
      "text/html": "\n                Tracking run with wandb version 0.10.27<br/>\n                Syncing run <strong style=\"color:#cdcd00\">summer-hill-7</strong> to <a href=\"https://wandb.ai\" target=\"_blank\">Weights & Biases</a> <a href=\"https://docs.wandb.com/integrations/jupyter.html\" target=\"_blank\">(Documentation)</a>.<br/>\n                Project page: <a href=\"https://wandb.ai/rasmusedvardsen/tech-talk\" target=\"_blank\">https://wandb.ai/rasmusedvardsen/tech-talk</a><br/>\n                Run page: <a href=\"https://wandb.ai/rasmusedvardsen/tech-talk/runs/38pprom1\" target=\"_blank\">https://wandb.ai/rasmusedvardsen/tech-talk/runs/38pprom1</a><br/>\n                Run data is saved locally in <code>c:\\OddsAndEnds\\face_detection\\face_object_detection\\wandb\\run-20210422_093742-38pprom1</code><br/><br/>\n            "
     },
     "metadata": {}
    }
   ],
   "source": [
    "from utils import get_data_from_list\n",
    "from sklearn.model_selection import train_test_split\n",
    "from glob import glob\n",
    "from PIL import Image\n",
    "from model import model\n",
    "import numpy as np\n",
    "\n",
    "import wandb\n",
    "from wandb.keras import WandbCallback\n",
    "wandb.init(project=\"tech-talk\")\n",
    "\n",
    "batch_size=32\n",
    "epochs=3"
   ]
  },
  {
   "cell_type": "code",
   "execution_count": 2,
   "metadata": {},
   "outputs": [
    {
     "output_type": "stream",
     "name": "stdout",
     "text": [
      "<PIL.Image.Image image mode=RGB size=370x449 at 0x1CC3A906E50>\n"
     ]
    }
   ],
   "source": [
    "# im = Image.open('images/negative/airplanes/image_0002.jpg').convert('RGB')\n",
    "im = Image.open(f'images/positive/Faces0.png').convert('RGB')\n",
    "im.show()\n",
    "im.resize((300, 200)).show()\n",
    "print(im)"
   ]
  },
  {
   "cell_type": "code",
   "execution_count": 3,
   "metadata": {},
   "outputs": [],
   "source": [
    "# Get data\n",
    "(X_1, y_1) = get_data_from_list(glob('images/positive/*'), 1)\n",
    "(X_2, y_2) = get_data_from_list(glob('images/negative/**/*.*'), 0)\n",
    "X = np.append(X_1, X_2, axis=0)\n",
    "y = np.append(y_1, y_2, axis=0)\n",
    "\n",
    "# important to do this, model.fit won't shuffle randomly\n",
    "X_train, X_val, y_train, y_val = train_test_split(X, y, test_size=0.3)"
   ]
  },
  {
   "cell_type": "code",
   "execution_count": null,
   "metadata": {},
   "outputs": [],
   "source": [
    "# Init model structure\n",
    "model = model((200, 300, 3), 1)\n",
    "model.compile(loss=\"binary_crossentropy\", optimizer=\"adam\", metrics=[\"accuracy\"])\n",
    "\n",
    "model.fit(X_train, y_train, batch_size=batch_size, epochs=epochs, validation_data=(X_val, y_val), callbacks=[WandbCallback(log_batch_frequency=10)])\n",
    "model.save('models/base_model_v15.h5')"
   ]
  },
  {
   "cell_type": "code",
   "execution_count": null,
   "metadata": {},
   "outputs": [],
   "source": [
    "wandb.finish()"
   ]
  }
 ]
}